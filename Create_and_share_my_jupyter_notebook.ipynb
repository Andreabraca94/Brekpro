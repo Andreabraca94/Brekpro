{
  "metadata": {
    "language_info": {
      "codemirror_mode": {
        "name": "python",
        "version": 3
      },
      "file_extension": ".py",
      "mimetype": "text/x-python",
      "name": "python",
      "nbconvert_exporter": "python",
      "pygments_lexer": "ipython3",
      "version": "3.8"
    },
    "kernelspec": {
      "name": "python",
      "display_name": "Pyolite",
      "language": "python"
    }
  },
  "nbformat_minor": 4,
  "nbformat": 4,
  "cells": [
    {
      "cell_type": "markdown",
      "source": "# My Jupyter Notebook on IBM Watson Studio",
      "metadata": {}
    },
    {
      "cell_type": "markdown",
      "source": "**Andrea Bracali**\n\nData scientist",
      "metadata": {}
    },
    {
      "cell_type": "markdown",
      "source": "*I am interested in data science becouse I am very keen in taking decision based on data*",
      "metadata": {}
    },
    {
      "cell_type": "markdown",
      "source": "### The following code perform the sum of the first 10 numbers using a for loop",
      "metadata": {}
    },
    {
      "cell_type": "code",
      "source": "sum = 0\nfor i in range(1, 10):\n    sum = sum + i\nprint(\"\\nSum of first 10 numbers :\", sum)",
      "metadata": {
        "trusted": true
      },
      "execution_count": 2,
      "outputs": [
        {
          "name": "stdout",
          "text": "\nSum of first 10 numbers : 45\n",
          "output_type": "stream"
        }
      ]
    },
    {
      "cell_type": "markdown",
      "source": "\n\n*This is a horizontal rule:*\n\n---\n\n*This is a bulleted list:*\n\n- first\n- second\n- third\n\n*This is a hyperlink:*\n[set-up GitHub](https://docs.github.com/en/get-started/quickstart/set-up-git)\n\n> This is a Blockquote\n\n\n",
      "metadata": {}
    }
  ]
}